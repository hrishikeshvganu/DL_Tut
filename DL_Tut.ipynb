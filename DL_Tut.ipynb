{
 "cells": [
  {
   "cell_type": "markdown",
   "metadata": {},
   "source": [
    "# Time alloted: 20 min"
   ]
  },
  {
   "cell_type": "markdown",
   "metadata": {},
   "source": [
    "# Motivation\n",
    "\n",
    "Our idea behind this exercise is to offer you an opportunity to understand hands-on teh difficulties that arise in applying traditional ML algorithms to \"natural\" datasets\n",
    "\n",
    "## The Problem\n",
    "\n",
    "The problem is to give out a label  for a hand-written image of what's supposed to be a number from 0-9\n",
    "\n",
    "\n"
   ]
  },
  {
   "cell_type": "markdown",
   "metadata": {},
   "source": [
    "# Load MNIST dataset"
   ]
  },
  {
   "cell_type": "code",
   "execution_count": 111,
   "metadata": {
    "collapsed": true,
    "scrolled": true
   },
   "outputs": [],
   "source": [
    "\n",
    "import numpy as np\n",
    "import matplotlib.pyplot as plt\n",
    "from sklearn.datasets import fetch_mldata\n",
    "from sklearn.ensemble import RandomForestClassifier\n",
    "from random import randint\n",
    "mnist = fetch_mldata(\"MNIST original\")\n",
    "# rescale the data, use the traditional train/test split\n"
   ]
  },
  {
   "cell_type": "markdown",
   "metadata": {},
   "source": [
    "# Questions\n",
    "- How many images does the dataset contain?\n",
    "- How many pixels does each image have?"
   ]
  },
  {
   "cell_type": "markdown",
   "metadata": {},
   "source": [
    "# Visualize data"
   ]
  },
  {
   "cell_type": "code",
   "execution_count": 112,
   "metadata": {},
   "outputs": [
    {
     "data": {
      "image/png": "[encoded data removed]",
      "text/plain": [
       "<matplotlib.figure.Figure at 0x12e9f7898>"
      ]
     },
     "metadata": {},
     "output_type": "display_data"
    }
   ],
   "source": [
    "# Raw images are 1d arrays. plt.imshow requires 2D arrays for grayscale images\n",
    "X_img=[]\n",
    "for ele in mnist.data:\n",
    "    X_img.append(ele.reshape(28,28))\n",
    "\n",
    "for i in range(20):\n",
    "    plt.subplot(4, 5, i+1)\n",
    "    \n",
    "    plt.axis('off')\n",
    "    \n",
    "    plt.imshow(X_img[randint(0, len(X_img))])\n",
    "\n",
    "\n",
    "plt.show()\n"
   ]
  },
  {
   "cell_type": "markdown",
   "metadata": {},
   "source": [
    "# Train-test split"
   ]
  },
  {
   "cell_type": "code",
   "execution_count": 113,
   "metadata": {
    "collapsed": true
   },
   "outputs": [],
   "source": [
    "# Map the grayscale intensities from [0,255]-> [0,1]\n",
    "X, y = mnist.data / 255., mnist.target\n",
    "X_train, X_test = X[:60000], X[60000:]\n",
    "y_train, y_test = y[:60000], y[60000:]\n",
    "\n",
    "\n",
    "\n"
   ]
  },
  {
   "cell_type": "markdown",
   "metadata": {},
   "source": [
    "# Run your favorite ML algorithm"
   ]
  },
  {
   "cell_type": "code",
   "execution_count": null,
   "metadata": {
    "collapsed": true
   },
   "outputs": [],
   "source": [
    "\n",
    "\n",
    "\n"
   ]
  },
  {
   "cell_type": "markdown",
   "metadata": {},
   "source": [
    "# RandomForest Classifier\n",
    "Let's first see how a classical technique like RF performs for this image dataset"
   ]
  },
  {
   "cell_type": "code",
   "execution_count": 130,
   "metadata": {},
   "outputs": [
    {
     "name": "stdout",
     "output_type": "stream",
     "text": [
      "Training set score: 0.999350\n",
      "Test set score: 0.971100\n"
     ]
    }
   ],
   "source": [
    "rf_clf= RandomForestClassifier(n_estimators=1000,max_depth=20, verbose=0, n_jobs=-1)\n",
    "rf_clf.fit(X_train, y_train)\n",
    "print(\"Training set score: %f\" % rf_clf.score(X_train, y_train))\n",
    "print(\"Test set score: %f\" % rf_clf.score(X_test, y_test))"
   ]
  },
  {
   "cell_type": "markdown",
   "metadata": {},
   "source": [
    "# Ponder this:\n",
    "1. The train error is low but the test error is relatrively high-why?\n",
    "2. What will happen if you increase max_depth? if you decrease it?\n",
    "2. What's the right way to generate features?\n",
    "3. The image has a 2D structure how do you incorporate that in the RF algorithm?"
   ]
  },
  {
   "cell_type": "markdown",
   "metadata": {},
   "source": [
    "# Feedforward NN"
   ]
  },
  {
   "cell_type": "code",
   "execution_count": 128,
   "metadata": {},
   "outputs": [
    {
     "name": "stdout",
     "output_type": "stream",
     "text": [
      "Iteration 1, loss = 0.29760641\n",
      "Iteration 2, loss = 0.10449815\n",
      "Iteration 3, loss = 0.07548644\n",
      "Iteration 4, loss = 0.05770847\n",
      "Iteration 5, loss = 0.04734471\n",
      "Iteration 6, loss = 0.04071890\n",
      "Iteration 7, loss = 0.03192422\n",
      "Iteration 8, loss = 0.02881373\n",
      "Training loss did not improve more than tol=0.010000 for two consecutive epochs. Stopping.\n",
      "Training set score: 0.992900\n",
      "Test set score: 0.975100\n"
     ]
    }
   ],
   "source": [
    "\n",
    "mlp = MLPClassifier(hidden_layer_sizes=(100,200,100), max_iter=30, alpha=1e-4,\n",
    "                    solver='sgd', verbose=1, tol=1e-2, random_state=1,\n",
    "                    learning_rate_init=.1)\n",
    "\n",
    "mlp.fit(X_train, y_train)\n",
    "print(\"Training set score: %f\" % mlp.score(X_train, y_train))\n",
    "print(\"Test set score: %f\" % mlp.score(X_test, y_test))\n"
   ]
  },
  {
   "cell_type": "code",
   "execution_count": null,
   "metadata": {
    "collapsed": true
   },
   "outputs": [],
   "source": []
  }
 ],
 "metadata": {
  "kernelspec": {
   "display_name": "Python 3",
   "language": "python",
   "name": "python3"
  },
  "language_info": {
   "codemirror_mode": {
    "name": "ipython",
    "version": 3
   },
   "file_extension": ".py",
   "mimetype": "text/x-python",
   "name": "python",
   "nbconvert_exporter": "python",
   "pygments_lexer": "ipython3",
   "version": "3.6.1"
  }
 },
 "nbformat": 4,
 "nbformat_minor": 2
}
